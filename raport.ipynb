{
 "cells": [
  {
   "cell_type": "markdown",
   "id": "95ced790b6d3ce23",
   "metadata": {
    "collapsed": false
   },
   "source": [
    "Rapport : Quantitative Structure-Activity Relationship\n",
    "Equipe : "
   ]
  },
  {
   "cell_type": "markdown",
   "id": "7c6c51bc67cc6e3b",
   "metadata": {
    "collapsed": false
   },
   "source": [
    "1 - Réprésentation des données"
   ]
  },
  {
   "cell_type": "markdown",
   "id": "21b1332996bcb29b",
   "metadata": {
    "collapsed": false
   },
   "source": [
    "a)"
   ]
  },
  {
   "cell_type": "markdown",
   "id": "312eed9922bc9c2f",
   "metadata": {
    "collapsed": false
   },
   "source": [
    "b)"
   ]
  },
  {
   "cell_type": "markdown",
   "id": "93fe9b98e9d738a3",
   "metadata": {
    "collapsed": false
   },
   "source": [
    "c)"
   ]
  },
  {
   "cell_type": "markdown",
   "id": "dba6e9709bc9de11",
   "metadata": {
    "collapsed": false
   },
   "source": [
    "2 - Mesures de distance"
   ]
  },
  {
   "cell_type": "markdown",
   "id": "ebb5e3ddccb485f4",
   "metadata": {
    "collapsed": false
   },
   "source": [
    "a)"
   ]
  },
  {
   "cell_type": "markdown",
   "id": "630c0c6a332178ec",
   "metadata": {
    "collapsed": false
   },
   "source": [
    "b)"
   ]
  },
  {
   "cell_type": "markdown",
   "id": "1d71072e1ff3d630",
   "metadata": {
    "collapsed": false
   },
   "source": [
    "3 - Choix du modèle de classification"
   ]
  },
  {
   "cell_type": "raw",
   "id": "a20a4e4585c0af68",
   "metadata": {
    "collapsed": false
   },
   "source": [
    "a) blablabla"
   ]
  },
  {
   "cell_type": "markdown",
   "id": "d0aafcefc9314a0d",
   "metadata": {
    "collapsed": false
   },
   "source": [
    "b)"
   ]
  },
  {
   "cell_type": "markdown",
   "id": "aec076eaf2b37888",
   "metadata": {
    "collapsed": false
   },
   "source": [
    "4 - Application"
   ]
  },
  {
   "cell_type": "code",
   "execution_count": null,
   "id": "1d852fe4b9c014ef",
   "metadata": {
    "collapsed": false
   },
   "outputs": [],
   "source": [
    "#okokoibn\n",
    "def fun():\n",
    "    return 2"
   ]
  }
 ],
 "metadata": {
  "kernelspec": {
   "display_name": "Python 3",
   "language": "python",
   "name": "python3"
  },
  "language_info": {
   "codemirror_mode": {
    "name": "ipython",
    "version": 2
   },
   "file_extension": ".py",
   "mimetype": "text/x-python",
   "name": "python",
   "nbconvert_exporter": "python",
   "pygments_lexer": "ipython2",
   "version": "2.7.6"
  }
 },
 "nbformat": 4,
 "nbformat_minor": 5
}
