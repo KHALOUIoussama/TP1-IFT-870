{
 "cells": [
  {
   "cell_type": "markdown",
   "id": "95ced790b6d3ce23",
   "metadata": {
    "collapsed": false
   },
   "source": [
    "Rapport : Quantitative Structure-Activity Relationship\n",
    "Equipe : "
   ]
  },
  {
   "cell_type": "markdown",
   "id": "7c6c51bc67cc6e3b",
   "metadata": {
    "collapsed": false
   },
   "source": [
    "## **1 - Réprésentation des données**"
   ]
  },
  {
   "cell_type": "code",
   "execution_count": 255,
   "id": "33c90b5d",
   "metadata": {},
   "outputs": [],
   "source": [
    "# Importation des librairies\n",
    "import pandas as pd\n",
    "import matplotlib.pyplot as plt\n",
    "from sklearn import linear_model\n",
    "import seaborn as sns\n",
    "import numpy as np\n",
    "from sklearn.impute import SimpleImputer"
   ]
  },
  {
   "cell_type": "markdown",
   "id": "21b1332996bcb29b",
   "metadata": {
    "collapsed": false
   },
   "source": [
    "#### **a) Analyse de l'ensemble des données**\n",
    "#### Analyse des critères statistiques des attributs"
   ]
  },
  {
   "cell_type": "code",
   "execution_count": 256,
   "id": "8a5b9743",
   "metadata": {},
   "outputs": [
    {
     "name": "stdout",
     "output_type": "stream",
     "text": [
      "(154, 75)\n"
     ]
    }
   ],
   "source": [
    "# Lecture des données du xlsx\n",
    "data_file = \"QSAR_dataset.xlsx\"\n",
    "# Stockage des données dans un dataframe\n",
    "data = pd.read_excel(data_file,index_col=0)\n",
    "print(data.shape)"
   ]
  },
  {
   "cell_type": "code",
   "execution_count": 257,
   "id": "f04192c4",
   "metadata": {},
   "outputs": [
    {
     "data": {
      "text/html": [
       "<div>\n",
       "<style scoped>\n",
       "    .dataframe tbody tr th:only-of-type {\n",
       "        vertical-align: middle;\n",
       "    }\n",
       "\n",
       "    .dataframe tbody tr th {\n",
       "        vertical-align: top;\n",
       "    }\n",
       "\n",
       "    .dataframe thead th {\n",
       "        text-align: right;\n",
       "    }\n",
       "</style>\n",
       "<table border=\"1\" class=\"dataframe\">\n",
       "  <thead>\n",
       "    <tr style=\"text-align: right;\">\n",
       "      <th></th>\n",
       "      <th>apol</th>\n",
       "      <th>ASA+</th>\n",
       "      <th>ASA-</th>\n",
       "      <th>a_count</th>\n",
       "      <th>a_donacc</th>\n",
       "      <th>a_heavy</th>\n",
       "      <th>a_hyd</th>\n",
       "      <th>a_IC</th>\n",
       "      <th>a_nC</th>\n",
       "      <th>a_nCl</th>\n",
       "      <th>...</th>\n",
       "      <th>VSA</th>\n",
       "      <th>vsa_acc</th>\n",
       "      <th>vsa_hyd</th>\n",
       "      <th>vsa_pol</th>\n",
       "      <th>vsurf_A</th>\n",
       "      <th>vsurf_R</th>\n",
       "      <th>vsurf_S</th>\n",
       "      <th>vsurf_V</th>\n",
       "      <th>Weight</th>\n",
       "      <th>zagreb</th>\n",
       "    </tr>\n",
       "  </thead>\n",
       "  <tbody>\n",
       "    <tr>\n",
       "      <th>count</th>\n",
       "      <td>154.000000</td>\n",
       "      <td>152.000000</td>\n",
       "      <td>153.000000</td>\n",
       "      <td>154.000000</td>\n",
       "      <td>154.000000</td>\n",
       "      <td>153.000000</td>\n",
       "      <td>154.000000</td>\n",
       "      <td>153.000000</td>\n",
       "      <td>154.000000</td>\n",
       "      <td>154.000000</td>\n",
       "      <td>...</td>\n",
       "      <td>154.000000</td>\n",
       "      <td>154.000000</td>\n",
       "      <td>154.000000</td>\n",
       "      <td>154.000000</td>\n",
       "      <td>154.000000</td>\n",
       "      <td>1.470000e+02</td>\n",
       "      <td>141.000000</td>\n",
       "      <td>136.000000</td>\n",
       "      <td>154.000000</td>\n",
       "      <td>154.000000</td>\n",
       "    </tr>\n",
       "    <tr>\n",
       "      <th>mean</th>\n",
       "      <td>34.610698</td>\n",
       "      <td>105.781739</td>\n",
       "      <td>359.928668</td>\n",
       "      <td>23.909091</td>\n",
       "      <td>0.292208</td>\n",
       "      <td>18.875817</td>\n",
       "      <td>17.350649</td>\n",
       "      <td>33.912102</td>\n",
       "      <td>11.649351</td>\n",
       "      <td>3.110390</td>\n",
       "      <td>...</td>\n",
       "      <td>273.307303</td>\n",
       "      <td>8.076532</td>\n",
       "      <td>239.944812</td>\n",
       "      <td>9.086768</td>\n",
       "      <td>2.379611</td>\n",
       "      <td>-6.802721e+08</td>\n",
       "      <td>-66.497364</td>\n",
       "      <td>-2.501405</td>\n",
       "      <td>359.813016</td>\n",
       "      <td>101.350649</td>\n",
       "    </tr>\n",
       "    <tr>\n",
       "      <th>std</th>\n",
       "      <td>5.951534</td>\n",
       "      <td>62.391286</td>\n",
       "      <td>111.225998</td>\n",
       "      <td>4.895461</td>\n",
       "      <td>0.862625</td>\n",
       "      <td>5.596428</td>\n",
       "      <td>5.028718</td>\n",
       "      <td>9.714722</td>\n",
       "      <td>2.472152</td>\n",
       "      <td>2.954031</td>\n",
       "      <td>...</td>\n",
       "      <td>52.783753</td>\n",
       "      <td>14.721655</td>\n",
       "      <td>59.915749</td>\n",
       "      <td>15.129738</td>\n",
       "      <td>2.637952</td>\n",
       "      <td>8.247861e+09</td>\n",
       "      <td>73.647379</td>\n",
       "      <td>2.807324</td>\n",
       "      <td>132.955027</td>\n",
       "      <td>33.487395</td>\n",
       "    </tr>\n",
       "    <tr>\n",
       "      <th>min</th>\n",
       "      <td>17.148172</td>\n",
       "      <td>8.778115</td>\n",
       "      <td>122.917570</td>\n",
       "      <td>12.000000</td>\n",
       "      <td>0.000000</td>\n",
       "      <td>10.000000</td>\n",
       "      <td>6.000000</td>\n",
       "      <td>12.000000</td>\n",
       "      <td>6.000000</td>\n",
       "      <td>0.000000</td>\n",
       "      <td>...</td>\n",
       "      <td>140.102050</td>\n",
       "      <td>0.000000</td>\n",
       "      <td>67.651054</td>\n",
       "      <td>0.000000</td>\n",
       "      <td>0.011998</td>\n",
       "      <td>-1.000000e+11</td>\n",
       "      <td>-209.769584</td>\n",
       "      <td>-8.247237</td>\n",
       "      <td>128.174000</td>\n",
       "      <td>46.000000</td>\n",
       "    </tr>\n",
       "    <tr>\n",
       "      <th>25%</th>\n",
       "      <td>31.534723</td>\n",
       "      <td>70.909811</td>\n",
       "      <td>330.864750</td>\n",
       "      <td>22.000000</td>\n",
       "      <td>0.000000</td>\n",
       "      <td>17.000000</td>\n",
       "      <td>16.000000</td>\n",
       "      <td>30.541887</td>\n",
       "      <td>12.000000</td>\n",
       "      <td>0.000000</td>\n",
       "      <td>...</td>\n",
       "      <td>246.182178</td>\n",
       "      <td>0.000000</td>\n",
       "      <td>203.302167</td>\n",
       "      <td>0.000000</td>\n",
       "      <td>0.124434</td>\n",
       "      <td>2.696068e-01</td>\n",
       "      <td>-132.566487</td>\n",
       "      <td>-5.058933</td>\n",
       "      <td>291.992000</td>\n",
       "      <td>88.000000</td>\n",
       "    </tr>\n",
       "    <tr>\n",
       "      <th>50%</th>\n",
       "      <td>35.579689</td>\n",
       "      <td>98.659012</td>\n",
       "      <td>389.503510</td>\n",
       "      <td>22.000000</td>\n",
       "      <td>0.000000</td>\n",
       "      <td>18.000000</td>\n",
       "      <td>17.000000</td>\n",
       "      <td>31.868664</td>\n",
       "      <td>12.000000</td>\n",
       "      <td>4.000000</td>\n",
       "      <td>...</td>\n",
       "      <td>281.160615</td>\n",
       "      <td>0.000000</td>\n",
       "      <td>253.968020</td>\n",
       "      <td>0.000000</td>\n",
       "      <td>0.376156</td>\n",
       "      <td>8.136986e-01</td>\n",
       "      <td>-10.648449</td>\n",
       "      <td>-0.411358</td>\n",
       "      <td>360.881990</td>\n",
       "      <td>94.000000</td>\n",
       "    </tr>\n",
       "    <tr>\n",
       "      <th>75%</th>\n",
       "      <td>38.401845</td>\n",
       "      <td>139.629990</td>\n",
       "      <td>427.294460</td>\n",
       "      <td>25.750000</td>\n",
       "      <td>0.000000</td>\n",
       "      <td>19.000000</td>\n",
       "      <td>18.000000</td>\n",
       "      <td>37.087944</td>\n",
       "      <td>12.000000</td>\n",
       "      <td>6.000000</td>\n",
       "      <td>...</td>\n",
       "      <td>295.503230</td>\n",
       "      <td>13.566921</td>\n",
       "      <td>272.261230</td>\n",
       "      <td>13.566921</td>\n",
       "      <td>4.786711</td>\n",
       "      <td>9.972196e+00</td>\n",
       "      <td>-3.509363</td>\n",
       "      <td>-0.133136</td>\n",
       "      <td>410.317990</td>\n",
       "      <td>106.000000</td>\n",
       "    </tr>\n",
       "    <tr>\n",
       "      <th>max</th>\n",
       "      <td>52.422001</td>\n",
       "      <td>356.764860</td>\n",
       "      <td>622.904600</td>\n",
       "      <td>43.000000</td>\n",
       "      <td>4.000000</td>\n",
       "      <td>43.000000</td>\n",
       "      <td>40.000000</td>\n",
       "      <td>86.319427</td>\n",
       "      <td>20.000000</td>\n",
       "      <td>10.000000</td>\n",
       "      <td>...</td>\n",
       "      <td>432.120120</td>\n",
       "      <td>59.150364</td>\n",
       "      <td>475.687620</td>\n",
       "      <td>59.150364</td>\n",
       "      <td>7.429943</td>\n",
       "      <td>1.611555e+01</td>\n",
       "      <td>-0.338738</td>\n",
       "      <td>-0.013318</td>\n",
       "      <td>959.170960</td>\n",
       "      <td>246.000000</td>\n",
       "    </tr>\n",
       "  </tbody>\n",
       "</table>\n",
       "<p>8 rows × 74 columns</p>\n",
       "</div>"
      ],
      "text/plain": [
       "             apol        ASA+        ASA-     a_count    a_donacc     a_heavy  \\\n",
       "count  154.000000  152.000000  153.000000  154.000000  154.000000  153.000000   \n",
       "mean    34.610698  105.781739  359.928668   23.909091    0.292208   18.875817   \n",
       "std      5.951534   62.391286  111.225998    4.895461    0.862625    5.596428   \n",
       "min     17.148172    8.778115  122.917570   12.000000    0.000000   10.000000   \n",
       "25%     31.534723   70.909811  330.864750   22.000000    0.000000   17.000000   \n",
       "50%     35.579689   98.659012  389.503510   22.000000    0.000000   18.000000   \n",
       "75%     38.401845  139.629990  427.294460   25.750000    0.000000   19.000000   \n",
       "max     52.422001  356.764860  622.904600   43.000000    4.000000   43.000000   \n",
       "\n",
       "            a_hyd        a_IC        a_nC       a_nCl  ...         VSA  \\\n",
       "count  154.000000  153.000000  154.000000  154.000000  ...  154.000000   \n",
       "mean    17.350649   33.912102   11.649351    3.110390  ...  273.307303   \n",
       "std      5.028718    9.714722    2.472152    2.954031  ...   52.783753   \n",
       "min      6.000000   12.000000    6.000000    0.000000  ...  140.102050   \n",
       "25%     16.000000   30.541887   12.000000    0.000000  ...  246.182178   \n",
       "50%     17.000000   31.868664   12.000000    4.000000  ...  281.160615   \n",
       "75%     18.000000   37.087944   12.000000    6.000000  ...  295.503230   \n",
       "max     40.000000   86.319427   20.000000   10.000000  ...  432.120120   \n",
       "\n",
       "          vsa_acc     vsa_hyd     vsa_pol     vsurf_A       vsurf_R  \\\n",
       "count  154.000000  154.000000  154.000000  154.000000  1.470000e+02   \n",
       "mean     8.076532  239.944812    9.086768    2.379611 -6.802721e+08   \n",
       "std     14.721655   59.915749   15.129738    2.637952  8.247861e+09   \n",
       "min      0.000000   67.651054    0.000000    0.011998 -1.000000e+11   \n",
       "25%      0.000000  203.302167    0.000000    0.124434  2.696068e-01   \n",
       "50%      0.000000  253.968020    0.000000    0.376156  8.136986e-01   \n",
       "75%     13.566921  272.261230   13.566921    4.786711  9.972196e+00   \n",
       "max     59.150364  475.687620   59.150364    7.429943  1.611555e+01   \n",
       "\n",
       "          vsurf_S     vsurf_V      Weight      zagreb  \n",
       "count  141.000000  136.000000  154.000000  154.000000  \n",
       "mean   -66.497364   -2.501405  359.813016  101.350649  \n",
       "std     73.647379    2.807324  132.955027   33.487395  \n",
       "min   -209.769584   -8.247237  128.174000   46.000000  \n",
       "25%   -132.566487   -5.058933  291.992000   88.000000  \n",
       "50%    -10.648449   -0.411358  360.881990   94.000000  \n",
       "75%     -3.509363   -0.133136  410.317990  106.000000  \n",
       "max     -0.338738   -0.013318  959.170960  246.000000  \n",
       "\n",
       "[8 rows x 74 columns]"
      ]
     },
     "execution_count": 257,
     "metadata": {},
     "output_type": "execute_result"
    }
   ],
   "source": [
    "# Statistiques descriptives des 74 attributs\n",
    "data.describe()"
   ]
  },
  {
   "cell_type": "markdown",
   "id": "51614ac9",
   "metadata": {},
   "source": [
    "\n",
    "#### Prétraitement des données\n",
    "**Traitement des données manquantes**\n",
    "Nous avons décidé de procéder au traitement des données manquantes par imputation, au lieu de simplement supprimer les dites données. Les objets n'étant pas nombreux, il y a un risque d'obtenir des résultats faussés avec ce second choix."
   ]
  },
  {
   "cell_type": "code",
   "execution_count": 258,
   "id": "86c430ee",
   "metadata": {},
   "outputs": [],
   "source": [
    "# Détermination du type, du nombre et du pourcentage de valeurs manquantes par attribut\n",
    "nb_m = data.isnull().sum().sort_values()\n",
    "ratio_m = (data.isnull().sum()/data.shape[0]).sort_values()"
   ]
  },
  {
   "cell_type": "code",
   "execution_count": 259,
   "id": "35fbcfa9",
   "metadata": {},
   "outputs": [],
   "source": [
    "manquant = pd.concat([nb_m, ratio_m], axis=1, sort=False)"
   ]
  },
  {
   "cell_type": "code",
   "execution_count": 260,
   "id": "30d138d9",
   "metadata": {},
   "outputs": [
    {
     "name": "stdout",
     "output_type": "stream",
     "text": [
      "           Types  Nb manquants  % de manquants\n",
      "a_IC     float64             1        0.006494\n",
      "a_heavy  float64             1        0.006494\n",
      "ASA-     float64             1        0.006494\n",
      "ASA+     float64             2        0.012987\n",
      "vsurf_R  float64             7        0.045455\n",
      "vsurf_S  float64            13        0.084416\n",
      "vsurf_V  float64            18        0.116883\n"
     ]
    }
   ],
   "source": [
    "# Affichage de ces données\n",
    "df_manquants = pd.DataFrame({'Types': data[list(manquant.index.values)].dtypes,\n",
    "                       'Nb manquants': nb_m,\n",
    "                      '% de manquants': ratio_m,})\n",
    "# On ne se concentre que sur les attributs aux valeurs manquantes\n",
    "df_notnull = df_manquants[df_manquants[\"Nb manquants\"]>0]\n",
    "print(df_notnull)"
   ]
  },
  {
   "cell_type": "markdown",
   "id": "f560b862",
   "metadata": {},
   "source": [
    "Tout d'abord, on observe que tous les attributs manquants sont numériques. De plus, on remarque que la proportion de données manquantes est différente pour chaque attribut, on n'est donc pas dans le cas du MMCA (Données manquantes de Manière Complètement Aléatoire)<sup>**1**</sup>. On considère que nos données sont dans le cas MA (Manquantes Aléatoirement), car c'est la situation la plus courante<sup>**2**</sup>. ceci nous dirige vers une imputation par régression, adaptée pour les données MA<sup>**3**</sup>.\n",
    "Puisque la régression linéaire utilisée s'appui sur les données d'autres attributs numériques, nous avons décidé d'utiliser un dataframe sans l'attribut \"Class\", qui n'est pas un attribut numérique.\n",
    "\n",
    "Afin de procéder à l'imputation des valeurs manquantes de ces attributs, il faut trouver ceux qui leur sont fortement corrélés."
   ]
  },
  {
   "cell_type": "code",
   "execution_count": 261,
   "id": "6efc45b3",
   "metadata": {},
   "outputs": [],
   "source": [
    "# Liste des attributs avec des données manquantes\n",
    "missing_attributes = [\"a_IC\",\"a_heavy\",\"ASA-\",\"ASA+\",\"vsurf_R\",\"vsurf_S\",\"vsurf_V\"]\n",
    "\n",
    "# Création d'un Dataframe sans l'attribut \"Class\"\n",
    "data_noclass = data.drop(columns = [\"Class\"])\n",
    "df_corr = data_noclass.corr()\n",
    "\n",
    "# Fonction permettant d'obtenir la liste des attributs fortement corrélés à attribut_name \n",
    "# On recherche au minimum un attribut fortement corrélé.\n",
    "\n",
    "def high_correlation(attribute_name):\n",
    "    coef = 0.9\n",
    "    a = data_noclass.loc[:, data_noclass.corr()[attribute_name] > coef]\n",
    "    # On ignore l'attribut étudié\n",
    "    a = a.drop(columns=[attribute_name])\n",
    "    while a.columns.empty :\n",
    "        coef -= 0.1\n",
    "        a = a = data_noclass.loc[:, data_noclass.corr()[attribute_name] > coef]\n",
    "        a = a.drop(columns=[attribute_name])\n",
    "    return list(a.columns)\n"
   ]
  },
  {
   "cell_type": "code",
   "execution_count": 262,
   "id": "cf199c9b",
   "metadata": {},
   "outputs": [
    {
     "name": "stdout",
     "output_type": "stream",
     "text": [
      "a_IC\n",
      "                                                    a_IC\n",
      "SMILES                                                  \n",
      "S(=O)(=O)([O-])C(F)(F)C(F)(F)C(F)(F)C(F)(F)C(F)...   NaN\n",
      "a_heavy\n",
      "Empty DataFrame\n",
      "Columns: [a_heavy]\n",
      "Index: []\n",
      "ASA-\n",
      "Empty DataFrame\n",
      "Columns: [ASA-]\n",
      "Index: []\n",
      "ASA+\n",
      "Empty DataFrame\n",
      "Columns: [ASA+]\n",
      "Index: []\n",
      "vsurf_R\n",
      "Empty DataFrame\n",
      "Columns: [vsurf_R]\n",
      "Index: []\n",
      "vsurf_S\n",
      "Empty DataFrame\n",
      "Columns: [vsurf_S]\n",
      "Index: []\n",
      "vsurf_V\n",
      "Empty DataFrame\n",
      "Columns: [vsurf_V]\n",
      "Index: []\n"
     ]
    }
   ],
   "source": [
    "\n",
    "for attribute in missing_attributes:\n",
    "    random_data = pd.DataFrame(columns = [attribute])\n",
    "    random_data[attribute] = data_noclass[attribute]\n",
    "    predictor_attributes = high_correlation(attribute)\n",
    "\n",
    "    data_noclass.fillna(data_noclass.select_dtypes(np.number).mean(), inplace=True)\n",
    "\n",
    "    model = linear_model.LinearRegression()\n",
    "    model.fit(X = data_noclass[predictor_attributes], y = data_noclass[attribute])\n",
    "    \n",
    "    #Standard Error of the regression estimates is equal to std() of the errors of each estimates\n",
    "    predict = model.predict(data_noclass[predictor_attributes])\n",
    "    std_error = (predict[data_noclass[attribute].notnull()] - data_noclass.loc[data_noclass[attribute].notnull(), attribute]).std()\n",
    "    \n",
    "    #observe that I preserve the index of the missing data from the original dataframe\n",
    "    random_predict = np.random.normal(size = data_noclass[attribute].shape[0], \n",
    "                                      loc = predict, \n",
    "                                      scale = std_error)\n",
    "    \n",
    "\n",
    "    print(attribute)\n",
    "    a = random_data[random_data[attribute].isna()]\n",
    "    print(a)\n",
    "    "
   ]
  },
  {
   "cell_type": "markdown",
   "id": "312eed9922bc9c2f",
   "metadata": {
    "collapsed": false
   },
   "source": [
    "b)"
   ]
  },
  {
   "cell_type": "markdown",
   "id": "93fe9b98e9d738a3",
   "metadata": {
    "collapsed": false
   },
   "source": [
    "c)"
   ]
  },
  {
   "cell_type": "markdown",
   "id": "dba6e9709bc9de11",
   "metadata": {
    "collapsed": false
   },
   "source": [
    "2 - Mesures de distance"
   ]
  },
  {
   "cell_type": "markdown",
   "id": "ebb5e3ddccb485f4",
   "metadata": {
    "collapsed": false
   },
   "source": [
    "a)"
   ]
  },
  {
   "cell_type": "markdown",
   "id": "630c0c6a332178ec",
   "metadata": {
    "collapsed": false
   },
   "source": [
    "b)"
   ]
  },
  {
   "cell_type": "markdown",
   "id": "1d71072e1ff3d630",
   "metadata": {
    "collapsed": false
   },
   "source": [
    "3 - Choix du modèle de classification"
   ]
  },
  {
   "cell_type": "raw",
   "id": "a20a4e4585c0af68",
   "metadata": {
    "collapsed": false
   },
   "source": [
    "def ok():\n",
    "    return 58"
   ]
  },
  {
   "cell_type": "markdown",
   "id": "d0aafcefc9314a0d",
   "metadata": {
    "collapsed": false
   },
   "source": [
    "b)"
   ]
  },
  {
   "cell_type": "markdown",
   "id": "aec076eaf2b37888",
   "metadata": {
    "collapsed": false
   },
   "source": [
    "4 - Application"
   ]
  },
  {
   "cell_type": "code",
   "execution_count": 263,
   "id": "1d852fe4b9c014ef",
   "metadata": {
    "collapsed": false
   },
   "outputs": [],
   "source": [
    "#okokoibn\n",
    "def fun():\n",
    "    return 897"
   ]
  },
  {
   "cell_type": "markdown",
   "id": "c518c5fc",
   "metadata": {},
   "source": [
    "### **Références**\n",
    "\n",
    "1. https://stefvanbuuren.name/fimd/sec-MCAR.html\n",
    "2. https://medium.com/analytics-vidhya/different-types-of-missing-data-59c87c046bf7\n",
    "3. https://www.datacamp.com/tutorial/techniques-to-handle-missing-data-values"
   ]
  }
 ],
 "metadata": {
  "kernelspec": {
   "display_name": "Python 3",
   "language": "python",
   "name": "python3"
  },
  "language_info": {
   "codemirror_mode": {
    "name": "ipython",
    "version": 3
   },
   "file_extension": ".py",
   "mimetype": "text/x-python",
   "name": "python",
   "nbconvert_exporter": "python",
   "pygments_lexer": "ipython3",
   "version": "3.11.5"
  }
 },
 "nbformat": 4,
 "nbformat_minor": 5
}
