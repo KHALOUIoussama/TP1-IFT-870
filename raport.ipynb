{
 "cells": [
  {
   "cell_type": "markdown",
   "source": [
    "Rapport : Quantitative Structure-Activity Relationship\n",
    "Equipe : "
   ],
   "metadata": {
    "collapsed": false
   },
   "id": "95ced790b6d3ce23"
  },
  {
   "cell_type": "markdown",
   "source": [
    "1 - Réprésentation des données"
   ],
   "metadata": {
    "collapsed": false
   },
   "id": "7c6c51bc67cc6e3b"
  },
  {
   "cell_type": "markdown",
   "source": [
    "a)"
   ],
   "metadata": {
    "collapsed": false
   },
   "id": "21b1332996bcb29b"
  },
  {
   "cell_type": "markdown",
   "source": [
    "b)"
   ],
   "metadata": {
    "collapsed": false
   },
   "id": "312eed9922bc9c2f"
  },
  {
   "cell_type": "markdown",
   "source": [
    "c)"
   ],
   "metadata": {
    "collapsed": false
   },
   "id": "93fe9b98e9d738a3"
  },
  {
   "cell_type": "markdown",
   "source": [
    "2 - Mesures de distance"
   ],
   "metadata": {
    "collapsed": false
   },
   "id": "dba6e9709bc9de11"
  },
  {
   "cell_type": "markdown",
   "source": [
    "a)"
   ],
   "metadata": {
    "collapsed": false
   },
   "id": "ebb5e3ddccb485f4"
  },
  {
   "cell_type": "markdown",
   "source": [
    "b)"
   ],
   "metadata": {
    "collapsed": false
   },
   "id": "630c0c6a332178ec"
  },
  {
   "cell_type": "markdown",
   "source": [
    "3 - Choix du modèle de classification"
   ],
   "metadata": {
    "collapsed": false
   },
   "id": "1d71072e1ff3d630"
  },
  {
   "cell_type": "raw",
   "source": [
    "a)"
   ],
   "metadata": {
    "collapsed": false
   },
   "id": "a20a4e4585c0af68"
  },
  {
   "cell_type": "markdown",
   "source": [
    "b)"
   ],
   "metadata": {
    "collapsed": false
   },
   "id": "d0aafcefc9314a0d"
  },
  {
   "cell_type": "markdown",
   "source": [
    "4 - Application"
   ],
   "metadata": {
    "collapsed": false
   },
   "id": "aec076eaf2b37888"
  },
  {
   "cell_type": "code",
   "execution_count": null,
   "outputs": [],
   "source": [],
   "metadata": {
    "collapsed": false
   },
   "id": "1d852fe4b9c014ef"
  }
 ],
 "metadata": {
  "kernelspec": {
   "display_name": "Python 3",
   "language": "python",
   "name": "python3"
  },
  "language_info": {
   "codemirror_mode": {
    "name": "ipython",
    "version": 2
   },
   "file_extension": ".py",
   "mimetype": "text/x-python",
   "name": "python",
   "nbconvert_exporter": "python",
   "pygments_lexer": "ipython2",
   "version": "2.7.6"
  }
 },
 "nbformat": 4,
 "nbformat_minor": 5
}
